{
 "cells": [
  {
   "cell_type": "code",
   "execution_count": null,
   "id": "37d41d7d",
   "metadata": {},
   "outputs": [],
   "source": [
    "# For importing library code\n",
    "\n",
    "sys.path.insert(0, '../src/data')          \n",
    "\n",
    "import etl"
   ]
  },
  {
   "cell_type": "markdown",
   "id": "60fa47a9-9103-457a-b885-5765ef0a9b1e",
   "metadata": {},
   "source": [
    "# Exploratory Data Analysis"
   ]
  },
  {
   "cell_type": "code",
   "execution_count": 3,
   "id": "afc47021-ac82-41c2-bd2c-b6d8c1eda612",
   "metadata": {},
   "outputs": [],
   "source": [
    "# load laptop data\n",
    "string_df_0, ull_df_0 = get_all_databases('../data/laptop')\n",
    "\n",
    "# load desktop data\n",
    "string_df_1, ull_df_1 = get_all_databases('../data/desktop')"
   ]
  },
  {
   "cell_type": "code",
   "execution_count": 4,
   "id": "8d45e29e-879c-49d5-a055-1bbf96e98199",
   "metadata": {
    "tags": []
   },
   "outputs": [
    {
     "data": {
      "text/html": [
       "<div>\n",
       "<style scoped>\n",
       "    .dataframe tbody tr th:only-of-type {\n",
       "        vertical-align: middle;\n",
       "    }\n",
       "\n",
       "    .dataframe tbody tr th {\n",
       "        vertical-align: top;\n",
       "    }\n",
       "\n",
       "    .dataframe thead th {\n",
       "        text-align: right;\n",
       "    }\n",
       "</style>\n",
       "<table border=\"1\" class=\"dataframe\">\n",
       "  <thead>\n",
       "    <tr style=\"text-align: right;\">\n",
       "      <th></th>\n",
       "      <th>MEASUREMENT_TIME</th>\n",
       "      <th>ID_INPUT</th>\n",
       "      <th>VALUE</th>\n",
       "      <th>PRIVATE_DATA</th>\n",
       "    </tr>\n",
       "  </thead>\n",
       "  <tbody>\n",
       "    <tr>\n",
       "      <th>0</th>\n",
       "      <td>2021-11-20 21:30:29.491</td>\n",
       "      <td>2</td>\n",
       "      <td>idc_arrow</td>\n",
       "      <td>0</td>\n",
       "    </tr>\n",
       "    <tr>\n",
       "      <th>1</th>\n",
       "      <td>2021-11-20 21:30:30.578</td>\n",
       "      <td>3</td>\n",
       "      <td>cmd.exe</td>\n",
       "      <td>0</td>\n",
       "    </tr>\n",
       "    <tr>\n",
       "      <th>2</th>\n",
       "      <td>2021-11-20 21:30:31.512</td>\n",
       "      <td>2</td>\n",
       "      <td>idc_sizewe</td>\n",
       "      <td>0</td>\n",
       "    </tr>\n",
       "    <tr>\n",
       "      <th>3</th>\n",
       "      <td>2021-11-20 21:30:31.847</td>\n",
       "      <td>2</td>\n",
       "      <td>idc_arrow</td>\n",
       "      <td>0</td>\n",
       "    </tr>\n",
       "    <tr>\n",
       "      <th>4</th>\n",
       "      <td>2021-11-20 21:30:34.994</td>\n",
       "      <td>2</td>\n",
       "      <td>idc_hand</td>\n",
       "      <td>0</td>\n",
       "    </tr>\n",
       "  </tbody>\n",
       "</table>\n",
       "</div>"
      ],
      "text/plain": [
       "          MEASUREMENT_TIME  ID_INPUT       VALUE PRIVATE_DATA\n",
       "0  2021-11-20 21:30:29.491         2   idc_arrow            0\n",
       "1  2021-11-20 21:30:30.578         3     cmd.exe            0\n",
       "2  2021-11-20 21:30:31.512         2  idc_sizewe            0\n",
       "3  2021-11-20 21:30:31.847         2   idc_arrow            0\n",
       "4  2021-11-20 21:30:34.994         2    idc_hand            0"
      ]
     },
     "metadata": {},
     "output_type": "display_data"
    },
    {
     "data": {
      "text/html": [
       "<div>\n",
       "<style scoped>\n",
       "    .dataframe tbody tr th:only-of-type {\n",
       "        vertical-align: middle;\n",
       "    }\n",
       "\n",
       "    .dataframe tbody tr th {\n",
       "        vertical-align: top;\n",
       "    }\n",
       "\n",
       "    .dataframe thead th {\n",
       "        text-align: right;\n",
       "    }\n",
       "</style>\n",
       "<table border=\"1\" class=\"dataframe\">\n",
       "  <thead>\n",
       "    <tr style=\"text-align: right;\">\n",
       "      <th></th>\n",
       "      <th>MEASUREMENT_TIME</th>\n",
       "      <th>ID_INPUT</th>\n",
       "      <th>VALUE</th>\n",
       "      <th>PRIVATE_DATA</th>\n",
       "    </tr>\n",
       "  </thead>\n",
       "  <tbody>\n",
       "    <tr>\n",
       "      <th>0</th>\n",
       "      <td>2021-11-20 21:30:29.436</td>\n",
       "      <td>0</td>\n",
       "      <td>791</td>\n",
       "      <td>0</td>\n",
       "    </tr>\n",
       "    <tr>\n",
       "      <th>1</th>\n",
       "      <td>2021-11-20 21:30:29.436</td>\n",
       "      <td>1</td>\n",
       "      <td>108</td>\n",
       "      <td>0</td>\n",
       "    </tr>\n",
       "    <tr>\n",
       "      <th>2</th>\n",
       "      <td>2021-11-20 21:30:30.442</td>\n",
       "      <td>0</td>\n",
       "      <td>814</td>\n",
       "      <td>0</td>\n",
       "    </tr>\n",
       "    <tr>\n",
       "      <th>3</th>\n",
       "      <td>2021-11-20 21:30:30.442</td>\n",
       "      <td>1</td>\n",
       "      <td>70</td>\n",
       "      <td>0</td>\n",
       "    </tr>\n",
       "    <tr>\n",
       "      <th>4</th>\n",
       "      <td>2021-11-20 21:30:30.578</td>\n",
       "      <td>4</td>\n",
       "      <td>2072</td>\n",
       "      <td>0</td>\n",
       "    </tr>\n",
       "  </tbody>\n",
       "</table>\n",
       "</div>"
      ],
      "text/plain": [
       "          MEASUREMENT_TIME ID_INPUT VALUE PRIVATE_DATA\n",
       "0  2021-11-20 21:30:29.436        0   791            0\n",
       "1  2021-11-20 21:30:29.436        1   108            0\n",
       "2  2021-11-20 21:30:30.442        0   814            0\n",
       "3  2021-11-20 21:30:30.442        1    70            0\n",
       "4  2021-11-20 21:30:30.578        4  2072            0"
      ]
     },
     "metadata": {},
     "output_type": "display_data"
    }
   ],
   "source": [
    "display(string_df_0.head())\n",
    "display(ull_df_0.head())"
   ]
  },
  {
   "cell_type": "code",
   "execution_count": 5,
   "id": "54948339-e1d7-4842-8197-10a1ff6e2182",
   "metadata": {
    "jupyter": {
     "outputs_hidden": true
    },
    "tags": []
   },
   "outputs": [
    {
     "data": {
      "text/plain": [
       "chrome.exe                              1028\n",
       "explorer.exe                             730\n",
       "discord.exe                              342\n",
       "devenv.exe                               320\n",
       "cmd.exe                                  240\n",
       "teams.exe                                239\n",
       "db browser for sqlite.exe                164\n",
       "spotify.exe                              157\n",
       "zoom.exe                                 119\n",
       "shellexperiencehost.exe                   74\n",
       "systemsettings.exe                        65\n",
       "netflix.exe                               61\n",
       "vsdebugconsole.exe                        50\n",
       "searchapp.exe                             45\n",
       "sndvol.exe                                32\n",
       "msedge.exe                                30\n",
       "microsoft.aad.brokerplugin.exe            23\n",
       "screenclippinghost.exe                    21\n",
       "python.exe                                17\n",
       "notepad.exe                               15\n",
       "taskmgr.exe                               15\n",
       "notepad++.exe                             14\n",
       "steamwebhelper.exe                        12\n",
       "steam.exe                                 11\n",
       "startmenuexperiencehost.exe               11\n",
       "mmc.exe                                   10\n",
       "githubdesktop.exe                          8\n",
       "vpnui.exe                                  7\n",
       "windowscamera.exe                          7\n",
       "microsoft.photos.exe                       5\n",
       "screensketch.exe                           5\n",
       "winstore.app.exe                           5\n",
       "lockapp.exe                                5\n",
       "rundll32.exe                               5\n",
       "paintstudio.view.exe                       4\n",
       "anaconda3-2021.11-windows-x86_64.exe       4\n",
       "hxoutlook.exe                              4\n",
       "video.ui.exe                               3\n",
       "microsoft.notes.exe                        3\n",
       "applicationframehost.exe                   2\n",
       "pickerhost.exe                             2\n",
       "easeofaccessdialog.exe                     1\n",
       "openwith.exe                               1\n",
       "nvidia notification.exe                    1\n",
       "werfault.exe                               1\n",
       "npp.8.1.9.2.installer.exe                  1\n",
       "zcefagent.exe                              1\n",
       "gup.exe                                    1\n",
       "lenovovantage.exe                          1\n",
       "msiexec.exe                                1\n",
       "installer.exe                              1\n",
       "Name: VALUE, dtype: int64"
      ]
     },
     "execution_count": 5,
     "metadata": {},
     "output_type": "execute_result"
    }
   ],
   "source": [
    "# getting value counts of foreground applications on LAPTOP-MP2GILK8\n",
    "foreground_0 = string_df_0[string_df_0['ID_INPUT'] == 3]['VALUE'].value_counts()\n",
    "foreground_0"
   ]
  },
  {
   "cell_type": "code",
   "execution_count": 6,
   "id": "db1617cd-9d5b-4121-8897-29b050789b6a",
   "metadata": {
    "jupyter": {
     "outputs_hidden": true
    },
    "tags": []
   },
   "outputs": [
    {
     "data": {
      "text/plain": [
       "chrome.exe                              610\n",
       "explorer.exe                            435\n",
       "discord.exe                             246\n",
       "cmd.exe                                 181\n",
       "spotify.exe                             113\n",
       "among us.exe                             82\n",
       "shellexperiencehost.exe                  74\n",
       "steamwebhelper.exe                       74\n",
       "msedge.exe                               72\n",
       "sndvol.exe                               65\n",
       "searchapp.exe                            60\n",
       "systemsettings.exe                       52\n",
       "radeonsoftware.exe                       49\n",
       "video.ui.exe                             46\n",
       "csgo.exe                                 36\n",
       "applicationframehost.exe                 27\n",
       "startmenuexperiencehost.exe              25\n",
       "r5apex.exe                               24\n",
       "steam.exe                                21\n",
       "zoom.exe                                 18\n",
       "python.exe                               18\n",
       "hxoutlook.exe                            14\n",
       "pythonw.exe                              12\n",
       "anaconda3-2021.11-windows-x86_64.exe      9\n",
       "taskmgr.exe                               9\n",
       "valorant-win64-shipping.exe               9\n",
       "lghub.exe                                 9\n",
       "screenclippinghost.exe                    6\n",
       "mmc.exe                                   6\n",
       "lockapp.exe                               6\n",
       "blitz.exe                                 5\n",
       "un_a.exe                                  5\n",
       "easyanticheat_launcher.exe                4\n",
       "rundll32.exe                              3\n",
       "teams.exe                                 3\n",
       "riotclientux.exe                          3\n",
       "winstore.app.exe                          2\n",
       "easeofaccessdialog.exe                    1\n",
       "vpnui.exe                                 1\n",
       "_conda.exe                                1\n",
       "amdow.exe                                 1\n",
       "screensketch.exe                          1\n",
       "msedgewebview2.exe                        1\n",
       "gethelp.exe                               1\n",
       "microsoft.aad.brokerplugin.exe            1\n",
       "Name: VALUE, dtype: int64"
      ]
     },
     "execution_count": 6,
     "metadata": {},
     "output_type": "execute_result"
    }
   ],
   "source": [
    "# getting value counts of foreground applications on DESKTOP-E83M0TM\n",
    "foreground_1 = string_df_1[string_df_1['ID_INPUT'] == 3]['VALUE'].value_counts()\n",
    "foreground_1"
   ]
  },
  {
   "cell_type": "code",
   "execution_count": 7,
   "id": "41421c41-ca2f-4881-bef3-1193d619949b",
   "metadata": {
    "tags": []
   },
   "outputs": [
    {
     "data": {
      "image/png": "[encoded data removed]",
      "text/plain": [
       "<Figure size 1080x360 with 2 Axes>"
      ]
     },
     "metadata": {
      "needs_background": "light"
     },
     "output_type": "display_data"
    }
   ],
   "source": [
    "# plotting\n",
    "fig, (ax1, ax2) = plt.subplots(1, 2, figsize=(15,5))\n",
    "fig.suptitle('Top 10 Foreground Applications')\n",
    "\n",
    "ax1.bar(x=foreground_0.index[:10], height=foreground_0.values[:10])\n",
    "ax1.tick_params(rotation=90);\n",
    "ax1.set_title('LAPTOP-MP2GILK8');\n",
    "\n",
    "ax2.bar(x=foreground_1.index[:10], height=foreground_1.values[:10], color='red')\n",
    "ax2.tick_params(rotation=90);\n",
    "ax2.set_title('DESKTOP-E83M0TM');"
   ]
  },
  {
   "cell_type": "code",
   "execution_count": 8,
   "id": "f66422e8-b343-4bf9-b944-72ff4cb832bf",
   "metadata": {
    "tags": []
   },
   "outputs": [],
   "source": [
    "# getting value counts of mouse icons on laptop\n",
    "icon_0 = string_df_0[string_df_0['ID_INPUT'] == 2]['VALUE'].value_counts()\n",
    "\n",
    "# getting value counts of mouse icons on desktop\n",
    "icon_1 = string_df_1[string_df_1['ID_INPUT'] == 2]['VALUE'].value_counts()"
   ]
  },
  {
   "cell_type": "code",
   "execution_count": 9,
   "id": "3af4a1c8-5ee2-454d-a127-5ed65123fadf",
   "metadata": {
    "scrolled": false,
    "tags": []
   },
   "outputs": [
    {
     "data": {
      "image/png": "[encoded data removed]",
      "text/plain": [
       "<Figure size 1080x360 with 2 Axes>"
      ]
     },
     "metadata": {
      "needs_background": "light"
     },
     "output_type": "display_data"
    }
   ],
   "source": [
    "# plotting\n",
    "fig, (ax1, ax2) = plt.subplots(1, 2, figsize=(15,5))\n",
    "fig.suptitle('Mouse Icon Frequencies')\n",
    "\n",
    "ax1.bar(x=icon_0.index, height=icon_0.values)\n",
    "ax1.tick_params(rotation=90);\n",
    "ax1.set_title('LAPTOP-MP2GILK8');\n",
    "\n",
    "ax2.bar(x=icon_1.index, height=icon_1.values, color='red')\n",
    "ax2.tick_params(rotation=90);\n",
    "ax2.set_title('DESKTOP-E83M0TM');"
   ]
  }
 ],
 "metadata": {
  "kernelspec": {
   "display_name": "Python 3 (ipykernel)",
   "language": "python",
   "name": "python3"
  },
  "language_info": {
   "codemirror_mode": {
    "name": "ipython",
    "version": 3
   },
   "file_extension": ".py",
   "mimetype": "text/x-python",
   "name": "python",
   "nbconvert_exporter": "python",
   "pygments_lexer": "ipython3",
   "version": "3.9.7"
  }
 },
 "nbformat": 4,
 "nbformat_minor": 5
}
